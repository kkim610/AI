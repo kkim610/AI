{
 "cells": [
  {
   "cell_type": "markdown",
   "metadata": {
    "Collapsed": "false",
    "id": "5uD9Ia9T0Jti"
   },
   "source": [
    "# 인공지능 개론 2022 기말고사 시험문제"
   ]
  },
  {
   "cell_type": "markdown",
   "metadata": {
    "id": "D7S22kWA8Ejt"
   },
   "source": [
    "제출기한: 2022년 12월 8일까지"
   ]
  },
  {
   "cell_type": "markdown",
   "metadata": {
    "id": "QOJlr2jEWABv"
   },
   "source": [
    "(중간고사 점수 + 기말고사 점수 + 출석점수)가 동점인 경우, 학점 산정시 기말고사 제출시간이 빠른 수강생이 우선권을 갖습니다."
   ]
  },
  {
   "cell_type": "markdown",
   "metadata": {
    "Collapsed": "false",
    "id": "YjndJGkn0Jtn"
   },
   "source": [
    "#### pymc3를 이용하여 다음 문제를 코딩하고, 실행한 후 ipynb 파일 형태로 저장한 다음 기말고사 과제함에 제출하세요."
   ]
  },
  {
   "cell_type": "markdown",
   "metadata": {
    "Collapsed": "false",
    "id": "AM--I7Mh0Jto"
   },
   "source": [
    "<br>\n",
    "동전의 앞면을 1 뒷면을 0 이라할 때, 동전 던지기를 100번 시행 하였다.\n",
    "이 실험을 다음과 같이 두가지 방법으로 기록하였다."
   ]
  },
  {
   "cell_type": "markdown",
   "metadata": {
    "Collapsed": "false",
    "id": "-A_RwXSC0Jto"
   },
   "source": [
    "##### 방법 1\n",
    "10개씩 끊어서 앞면이 나온 횟수만 기록 한다. 예를 들면 5,6,4,6,5, ... 이런 식으로 10번 기록한다."
   ]
  },
  {
   "cell_type": "markdown",
   "metadata": {
    "Collapsed": "false",
    "id": "IQmctc6v0Jtp"
   },
   "source": [
    "##### 방법 2\n",
    "던질때 마다 결과를 기록한다. 예를 들면, 0,1,0, ... , 0, 1, 1 과 같이 100개의 자료로 나타낸다."
   ]
  },
  {
   "cell_type": "markdown",
   "metadata": {
    "Collapsed": "false",
    "id": "V_xptmYd0Jtp"
   },
   "source": [
    "<br><br>앞면이 나올 확률을 theta라 하자.\n",
    "random number의 seed를 본인의 학번으로 하고, \n",
    "theta_real=0.45로 하여 동전 던지기를 100회를 시행하는 실험을 \n",
    "프로그래밍 코드로 시뮬레이션 한 후, 파이썬을 이용하여 방법 1과 방법 2의 기록 방법으로 기록한다."
   ]
  },
  {
   "cell_type": "markdown",
   "metadata": {
    "Collapsed": "false",
    "id": "yi4lDl860Jtq"
   },
   "source": [
    "단, theta의 prior는 다음 pymc3 코드를 사용하시오.<br>\n",
    "theta = pm.Beta('theta', alpha=1, beta=1) \n",
    "\n",
    "\n",
    "pm.sample(5000, tune=1000, step=step) 을 사용하세요."
   ]
  },
  {
   "cell_type": "markdown",
   "metadata": {
    "Collapsed": "false",
    "id": "27hkOep10Jtq"
   },
   "source": [
    "#### 1. 각 방법의 데이터를 이용하여 주어진 조건대로 pymc3를 이용한 시뮬레이션을 한 후 다음 물음에 답하시오. (40점)\n",
    "\n",
    "1) pm.traceplot 을 이용하여 theta 값의 trace 결과를 그래프로 나타내시오. \n",
    "\n",
    "2) pm.plot_posterior(chain, kde_plot=True) 를 실행하여 theta 값의 분포와 신뢰구간 평균을 그림으로 나타내시오. "
   ]
  },
  {
   "cell_type": "markdown",
   "metadata": {
    "Collapsed": "false",
    "id": "jxR7rR100Jtr"
   },
   "source": [
    "#### 2. 두 가지 기록 방법의 결과를 비교하시오. (10점)"
   ]
  },
  {
   "cell_type": "markdown",
   "metadata": {
    "Collapsed": "false",
    "id": "qKXz4p090Jts"
   },
   "source": [
    "<br><br>\n"
   ]
  }
 ],
 "metadata": {
  "colab": {
   "provenance": []
  },
  "kernelspec": {
   "display_name": "Python 3 (ipykernel)",
   "language": "python",
   "name": "python3"
  },
  "language_info": {
   "codemirror_mode": {
    "name": "ipython",
    "version": 3
   },
   "file_extension": ".py",
   "mimetype": "text/x-python",
   "name": "python",
   "nbconvert_exporter": "python",
   "pygments_lexer": "ipython3",
   "version": "3.10.9"
  }
 },
 "nbformat": 4,
 "nbformat_minor": 4
}
