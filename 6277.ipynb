{
 "cells": [
  {
   "cell_type": "markdown",
   "metadata": {},
   "source": [
    "### my test"
   ]
  },
  {
   "cell_type": "code",
   "execution_count": 1,
   "metadata": {},
   "outputs": [
    {
     "name": "stdout",
     "output_type": "stream",
     "text": [
      "입력된 값 [10, 10, 20, 30, 40]의 평균은 22.0입니다.\n"
     ]
    }
   ],
   "source": [
    "f = open('ex_024_input.txt')\n",
    "   \n",
    "T=5\n",
    "L=[]\n",
    "for test_case in range(1, T + 1):\n",
    "  \n",
    "    e = int(f.readline())\n",
    "    #print(e)\n",
    "    L.append(e)\n",
    "    #print(\"L\",L)\n",
    "\n",
    "avg=float(sum(L)/len(L)) \n",
    "\n",
    "print('입력된 값 %s의 평균은 %.1f입니다.' %(L, avg))"
   ]
  },
  {
   "cell_type": "markdown",
   "metadata": {},
   "source": [
    "### sol"
   ]
  },
  {
   "cell_type": "code",
   "execution_count": null,
   "metadata": {},
   "outputs": [],
   "source": [
    "#f = open('ex_024_input.txt')\n",
    "   \n",
    "T=5\n",
    "L=[]\n",
    "for test_case in range(1, T + 1):\n",
    "  \n",
    "    e = int(input())\n",
    "    #print(e)\n",
    "    L.append(e)\n",
    "    #print(\"L\",L)\n",
    "\n",
    "avg=float(sum(L)/len(L)) \n",
    "        \n",
    "print('입력된 값 %s의 평균은 %.1f입니다.' %(L, avg))"
   ]
  }
 ],
 "metadata": {
  "kernelspec": {
   "display_name": "Python 3 (ipykernel)",
   "language": "python",
   "name": "python3"
  },
  "language_info": {
   "codemirror_mode": {
    "name": "ipython",
    "version": 3
   },
   "file_extension": ".py",
   "mimetype": "text/x-python",
   "name": "python",
   "nbconvert_exporter": "python",
   "pygments_lexer": "ipython3",
   "version": "3.10.9"
  }
 },
 "nbformat": 4,
 "nbformat_minor": 4
}
