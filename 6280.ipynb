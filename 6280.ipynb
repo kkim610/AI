{
 "cells": [
  {
   "cell_type": "markdown",
   "metadata": {},
   "source": [
    "### my test"
   ]
  },
  {
   "cell_type": "code",
   "execution_count": 5,
   "metadata": {},
   "outputs": [
    {
     "name": "stdout",
     "output_type": "stream",
     "text": [
      "[1, 2, 3, 4, 6, 12]\n"
     ]
    }
   ],
   "source": [
    "f = open('ex_028_input.txt')\n",
    "\n",
    "L=[]\n",
    "  \n",
    "n = int(f.readline())\n",
    "#print(n)\n",
    "k=n\n",
    "i=1\n",
    "while i < k:\n",
    "    if not n%i:\n",
    "        L.append(i)\n",
    "        k=n//i\n",
    "        L.append(k)\n",
    "    i += 1\n",
    "\n",
    "L.sort()\n",
    "\n",
    "print(L)"
   ]
  },
  {
   "cell_type": "code",
   "execution_count": 9,
   "metadata": {
    "tags": []
   },
   "outputs": [
    {
     "name": "stdout",
     "output_type": "stream",
     "text": [
      "[1, 2, 4, 5, 8, 10, 16, 20, 25, 32, 40, 50, 64, 80, 100, 125, 128, 160, 200, 250, 320, 400, 500, 625, 640, 800, 1000, 1250, 1600, 2000, 2500, 3125, 3200, 4000, 5000, 6250, 8000, 10000, 12500, 15625, 16000, 20000, 25000, 31250, 40000, 50000, 62500, 78125, 80000, 100000, 125000, 156250, 200000, 250000, 312500, 400000, 500000, 625000, 1000000, 1250000, 2000000, 2500000, 5000000, 10000000]\n",
      "0.0019960403442382812\n"
     ]
    }
   ],
   "source": [
    "import time\n",
    "\n",
    "start = time.time()\n",
    "\n",
    "L=[]\n",
    "  \n",
    "n = 10000000\n",
    "#print(n)\n",
    "k=n\n",
    "i=1\n",
    "while i < k:\n",
    "    if not n%i:\n",
    "        L.append(i)\n",
    "        k=n//i\n",
    "        L.append(k)\n",
    "    i += 1\n",
    "\n",
    "L.sort()\n",
    "\n",
    "print(L)\n",
    "\n",
    "end = time.time()\n",
    "print(end - start)"
   ]
  },
  {
   "cell_type": "code",
   "execution_count": 8,
   "metadata": {
    "tags": []
   },
   "outputs": [
    {
     "name": "stdout",
     "output_type": "stream",
     "text": [
      "[1, 2, 4, 5, 8, 10, 16, 20, 25, 32, 40, 50, 64, 80, 100, 125, 128, 160, 200, 250, 320, 400, 500, 625, 640, 800, 1000, 1250, 1600, 2000, 2500, 3125, 3200, 4000, 5000, 6250, 8000, 10000, 12500, 15625, 16000, 20000, 25000, 31250, 40000, 50000, 62500, 78125, 80000, 100000, 125000, 156250, 200000, 250000, 312500, 400000, 500000, 625000, 1000000, 1250000, 2000000, 2500000, 5000000, 10000000]\n",
      "2.2229959964752197\n"
     ]
    }
   ],
   "source": [
    "import time\n",
    "\n",
    "start = time.time()\n",
    "\n",
    "L=[]\n",
    "  \n",
    "n = 10000000\n",
    "#print(n)\n",
    "k=n\n",
    "i=1\n",
    "while i <= k:\n",
    "    if not n%i:\n",
    "        L.append(i)\n",
    "\n",
    "    i += 1\n",
    "\n",
    "\n",
    "print(L)\n",
    "\n",
    "end = time.time()\n",
    "print(end - start)"
   ]
  },
  {
   "cell_type": "code",
   "execution_count": 10,
   "metadata": {
    "tags": []
   },
   "outputs": [
    {
     "name": "stdout",
     "output_type": "stream",
     "text": [
      "[1, 2, 4, 5, 8, 10, 16, 20, 25, 32, 40, 50, 64, 80, 100, 125, 128, 160, 200, 250, 320, 400, 500, 625, 640, 800, 1000, 1250, 1600, 2000, 2500, 3125, 3200, 4000, 5000, 6250, 8000, 10000, 12500, 15625, 16000, 20000, 25000, 31250, 40000, 50000, 62500, 78125, 80000, 100000, 125000, 156250, 200000, 250000, 312500, 400000, 500000, 625000, 1000000, 1250000, 2000000, 2500000, 5000000, 10000000]\n",
      "1.145047903060913\n"
     ]
    }
   ],
   "source": [
    "import time\n",
    "\n",
    "start = time.time()\n",
    "\n",
    "L=[]\n",
    "  \n",
    "n = 10000000\n",
    "#print(n)\n",
    "L=[i for i in range(1,n+1) if n % i == 0]\n",
    "\n",
    "\n",
    "print(L)\n",
    "\n",
    "end = time.time()\n",
    "print(end - start)"
   ]
  },
  {
   "cell_type": "markdown",
   "metadata": {},
   "source": [
    "### sol"
   ]
  },
  {
   "cell_type": "code",
   "execution_count": null,
   "metadata": {},
   "outputs": [],
   "source": [
    "#f = open('ex_028_input.txt')\n",
    "\n",
    "L=[]\n",
    "  \n",
    "n = int(input())\n",
    "#print(n)\n",
    "k=n\n",
    "i=1\n",
    "while i < k:\n",
    "    if not n%i:\n",
    "        L.append(i)\n",
    "        k=n//i\n",
    "        L.append(k)\n",
    "    i += 1\n",
    "\n",
    "L.sort()\n",
    "\n",
    "print(L)"
   ]
  }
 ],
 "metadata": {
  "kernelspec": {
   "display_name": "Python 3 (ipykernel)",
   "language": "python",
   "name": "python3"
  },
  "language_info": {
   "codemirror_mode": {
    "name": "ipython",
    "version": 3
   },
   "file_extension": ".py",
   "mimetype": "text/x-python",
   "name": "python",
   "nbconvert_exporter": "python",
   "pygments_lexer": "ipython3",
   "version": "3.10.9"
  }
 },
 "nbformat": 4,
 "nbformat_minor": 4
}
