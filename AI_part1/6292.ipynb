{
 "cells": [
  {
   "cell_type": "markdown",
   "id": "4f580d1e-e432-45f8-94a0-8ca49818ea40",
   "metadata": {},
   "source": [
    "### my test"
   ]
  },
  {
   "cell_type": "code",
   "execution_count": 9,
   "id": "037c14e7-bc9f-4769-a706-dc0d9e39a172",
   "metadata": {
    "tags": []
   },
   "outputs": [
    {
     "name": "stdout",
     "output_type": "stream",
     "text": [
      "[12, 34, 56, 78]\n",
      "(12, 34, 56, 78)\n"
     ]
    }
   ],
   "source": [
    "f = open('ex_065_input.txt')\n",
    "\n",
    "L = list(map(int, f.readline().rstrip().split(',')))    \n",
    "print(L)\n",
    "T = tuple(L)\n",
    "print(T)"
   ]
  },
  {
   "cell_type": "markdown",
   "id": "2cb7b085-8e38-42e6-b864-ccc88a81da6a",
   "metadata": {},
   "source": [
    "### sol"
   ]
  },
  {
   "cell_type": "code",
   "execution_count": null,
   "id": "bc3e95d0-3af2-4f98-b4d4-5619b0958b52",
   "metadata": {},
   "outputs": [],
   "source": [
    "#f = open('ex_065_input.txt')\n",
    "\n",
    "L = list(map(int, input().rstrip().split(',')))    \n",
    "print(L)\n",
    "T = tuple(L)\n",
    "print(T)"
   ]
  }
 ],
 "metadata": {
  "kernelspec": {
   "display_name": "Python 3 (ipykernel)",
   "language": "python",
   "name": "python3"
  },
  "language_info": {
   "codemirror_mode": {
    "name": "ipython",
    "version": 3
   },
   "file_extension": ".py",
   "mimetype": "text/x-python",
   "name": "python",
   "nbconvert_exporter": "python",
   "pygments_lexer": "ipython3",
   "version": "3.10.9"
  }
 },
 "nbformat": 4,
 "nbformat_minor": 5
}
