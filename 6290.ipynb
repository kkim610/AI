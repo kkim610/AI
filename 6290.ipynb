{
 "cells": [
  {
   "cell_type": "markdown",
   "metadata": {},
   "source": [
    "### my test"
   ]
  },
  {
   "cell_type": "code",
   "execution_count": 14,
   "metadata": {},
   "outputs": [
    {
     "name": "stdout",
     "output_type": "stream",
     "text": [
      "[['계시다', '가지다', '그', '개'], ['놀이'], ['들다', '다', '뒤', '듣다', '데리다'], [], ['막', '무척', '마리'], ['부모님', '비용', '비행기', '보이다'], ['싶다', '수출'], ['원래', '아이', '옳다'], ['좀', '자르다', '정도'], ['처리', '최초'], [], [], [], ['함께']]\n"
     ]
    }
   ],
   "source": [
    "dicBase = (('가','깋'), ('나','닣'), ('다','딯'), ('라','맇'), ('마','밓'), ('바','빟'), ('사','싷'),\n",
    "               ('아','잏'), ('자','짛'), ('차','칳'), ('카','킿'), ('타','팋'), ('파','핗'), ('하','힣'))\n",
    " \n",
    "inputWord = ['막', '부모님', '비용', '비행기', '원래', '처리', '최초', '꼴', '좀', '들다', '싶다',\n",
    "                   '수출', '계시다', '다', '뒤', '듣다', '함께', '아이', '무척', '보이다', '가지다', '그',\n",
    "                   '자르다', '데리다', '마리', '개', '정도', '옳다', '놀이','뜨겁다']\n",
    "\n",
    "L=[[] for _ in range(len(dicBase))]\n",
    "#print(L)\n",
    "n = len(dicBase)\n",
    "\n",
    "for i in range(len(inputWord)):\n",
    "    #print(inputWord[i][0])\n",
    "    for j in range(n):          \n",
    "        if dicBase[j][0] <= inputWord[i][0] and inputWord[i][0] <= dicBase[j][1]:\n",
    "            L[j].append(inputWord[i])\n",
    "\n",
    "print(L)"
   ]
  },
  {
   "cell_type": "markdown",
   "metadata": {},
   "source": [
    "### sol"
   ]
  },
  {
   "cell_type": "code",
   "execution_count": null,
   "metadata": {},
   "outputs": [],
   "source": [
    "dicBase = (('가','깋'), ('나','닣'), ('다','딯'), ('라','맇'), ('마','밓'), ('바','빟'), ('사','싷'),\n",
    "               ('아','잏'), ('자','짛'), ('차','칳'), ('카','킿'), ('타','팋'), ('파','핗'), ('하','힣'))\n",
    " \n",
    "inputWord = ['막', '부모님', '비용', '비행기', '원래', '처리', '최초', '꼴', '좀', '들다', '싶다',\n",
    "                   '수출', '계시다', '다', '뒤', '듣다', '함께', '아이', '무척', '보이다', '가지다', '그',\n",
    "                   '자르다', '데리다', '마리', '개', '정도', '옳다', '놀이','뜨겁다']\n",
    "\n",
    "L=[[] for _ in range(len(dicBase))]\n",
    "#print(L)\n",
    "n = len(dicBase)\n",
    "\n",
    "for i in range(len(inputWord)):\n",
    "    #print(inputWord[i][0])\n",
    "    for j in range(n):          \n",
    "        if dicBase[j][0] <= inputWord[i][0] and inputWord[i][0] <= dicBase[j][1]:\n",
    "            L[j].append(inputWord[i])\n",
    "\n",
    "print(L)"
   ]
  }
 ],
 "metadata": {
  "kernelspec": {
   "display_name": "Python 3 (ipykernel)",
   "language": "python",
   "name": "python3"
  },
  "language_info": {
   "codemirror_mode": {
    "name": "ipython",
    "version": 3
   },
   "file_extension": ".py",
   "mimetype": "text/x-python",
   "name": "python",
   "nbconvert_exporter": "python",
   "pygments_lexer": "ipython3",
   "version": "3.10.9"
  }
 },
 "nbformat": 4,
 "nbformat_minor": 4
}
